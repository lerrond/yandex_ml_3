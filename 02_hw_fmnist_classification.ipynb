{
  "cells": [
    {
      "cell_type": "markdown",
      "metadata": {
        "id": "nDsVMGiVgSq2"
      },
      "source": [
        "## Классификация FashionMNIST\n",
        "\n",
        "##### Автор: [Радослав Нейчев](https://www.linkedin.com/in/radoslav-neychev/), https://t.me/s/girafe_ai"
      ]
    },
    {
      "cell_type": "code",
      "execution_count": 2,
      "metadata": {
        "id": "3isBRG6PgSq6"
      },
      "outputs": [],
      "source": [
        "# do not change the code in the block below\n",
        "# __________start of block__________\n",
        "import json\n",
        "import os\n",
        "import re\n",
        "\n",
        "import numpy as np\n",
        "import torch\n",
        "import torchvision\n",
        "from IPython.display import clear_output\n",
        "from matplotlib import pyplot as plt\n",
        "from torch import nn\n",
        "from torch.nn import functional as F\n",
        "from torchvision.datasets import FashionMNIST\n",
        "\n",
        "# __________end of block__________"
      ]
    },
    {
      "cell_type": "code",
      "execution_count": 3,
      "metadata": {
        "id": "f4BA4_3Z-xUQ"
      },
      "outputs": [],
      "source": [
        "# do not change the code in the block below\n",
        "# __________start of block__________\n",
        "def get_predictions(model, eval_data, step=10):\n",
        "\n",
        "    predicted_labels = []\n",
        "    model.eval()\n",
        "    with torch.no_grad():\n",
        "        for idx in range(0, len(eval_data), step):\n",
        "            y_predicted = model(eval_data[idx : idx + step].to(device))\n",
        "            predicted_labels.append(y_predicted.argmax(dim=1).cpu())\n",
        "\n",
        "    predicted_labels = torch.cat(predicted_labels)\n",
        "    predicted_labels = \",\".join([str(x.item()) for x in list(predicted_labels)])\n",
        "    return predicted_labels\n",
        "\n",
        "\n",
        "def get_accuracy(model, data_loader):\n",
        "    predicted_labels = []\n",
        "    real_labels = []\n",
        "    model.eval()\n",
        "    with torch.no_grad():\n",
        "        for batch in data_loader:\n",
        "            y_predicted = model(batch[0].to(device))\n",
        "            predicted_labels.append(y_predicted.argmax(dim=1).cpu())\n",
        "            real_labels.append(batch[1])\n",
        "\n",
        "    predicted_labels = torch.cat(predicted_labels)\n",
        "    real_labels = torch.cat(real_labels)\n",
        "    accuracy_score = (predicted_labels == real_labels).type(torch.FloatTensor).mean()\n",
        "    return accuracy_score\n",
        "\n",
        "\n",
        "# __________end of block__________"
      ]
    },
    {
      "cell_type": "markdown",
      "metadata": {
        "id": "4-OhVJcJ-xUR"
      },
      "source": [
        "Загрузите файл `hw_overfitting_data_dict.npy` (ссылка есть на странице с заданием), он понадобится для генерации посылок. Код ниже может его загрузить (но в случае возникновения ошибки скачайте и загрузите его вручную).\n"
      ]
    },
    {
      "cell_type": "code",
      "execution_count": 4,
      "metadata": {
        "colab": {
          "base_uri": "https://localhost:8080/"
        },
        "id": "1FW7SOoZ-xUS",
        "outputId": "b305f462-ed9f-42a6-cafe-bb47d1a94d4a"
      },
      "outputs": [
        {
          "output_type": "stream",
          "name": "stdout",
          "text": [
            "--2025-04-10 23:14:48--  https://github.com/girafe-ai/ml-course/raw/24f_ysda/homeworks/hw_overfitting/hw_overfitting_data_dict\n",
            "Resolving github.com (github.com)... 20.205.243.166\n",
            "Connecting to github.com (github.com)|20.205.243.166|:443... connected.\n",
            "HTTP request sent, awaiting response... 302 Found\n",
            "Location: https://raw.githubusercontent.com/girafe-ai/ml-course/24f_ysda/homeworks/hw_overfitting/hw_overfitting_data_dict [following]\n",
            "--2025-04-10 23:14:49--  https://raw.githubusercontent.com/girafe-ai/ml-course/24f_ysda/homeworks/hw_overfitting/hw_overfitting_data_dict\n",
            "Resolving raw.githubusercontent.com (raw.githubusercontent.com)... 185.199.108.133, 185.199.109.133, 185.199.110.133, ...\n",
            "Connecting to raw.githubusercontent.com (raw.githubusercontent.com)|185.199.108.133|:443... connected.\n",
            "HTTP request sent, awaiting response... 200 OK\n",
            "Length: 6272446 (6.0M) [application/octet-stream]\n",
            "Saving to: ‘hw_overfitting_data_dict.npy’\n",
            "\n",
            "hw_overfitting_data 100%[===================>]   5.98M  --.-KB/s    in 0.02s   \n",
            "\n",
            "2025-04-10 23:14:49 (313 MB/s) - ‘hw_overfitting_data_dict.npy’ saved [6272446/6272446]\n",
            "\n"
          ]
        }
      ],
      "source": [
        "!wget https://github.com/girafe-ai/ml-course/raw/24f_ysda/homeworks/hw_overfitting/hw_overfitting_data_dict -O hw_overfitting_data_dict.npy"
      ]
    },
    {
      "cell_type": "code",
      "execution_count": 5,
      "metadata": {
        "id": "MItDzzUZ-xUS"
      },
      "outputs": [],
      "source": [
        "# do not change the code in the block below\n",
        "# __________start of block__________\n",
        "assert os.path.exists(\n",
        "    \"hw_overfitting_data_dict.npy\"\n",
        "), \"Please, download `hw_overfitting_data_dict.npy` and place it in the working directory\"\n",
        "\n",
        "# __________end of block__________"
      ]
    },
    {
      "cell_type": "markdown",
      "metadata": {
        "id": "zeA6Q5-CgSq7"
      },
      "source": [
        "Вернемся к задаче распознавания простых изображений, рассмотренной ранее. Но теперь будем работать с набором данных [FashionMNIST](https://github.com/zalandoresearch/fashion-mnist). В данном задании воспользуемся всем датасетом целиком.\n",
        "\n",
        "__Ваша первая задача: реализовать весь пайплан обучения модели и добиться качества $\\geq 88.5\\%$ на тестовой выборке.__\n",
        "\n",
        "Код для обучения модели в данном задании отсутствует. Присутствует лишь несколько тестов, которые помогут вам отладить свое решение. За примером можно обратиться к ноутбукам с предыдущих занятий."
      ]
    },
    {
      "cell_type": "code",
      "execution_count": 6,
      "metadata": {
        "id": "jD4P3luz-xUT"
      },
      "outputs": [],
      "source": [
        "CUDA_DEVICE_ID = 0  # change if needed"
      ]
    },
    {
      "cell_type": "code",
      "execution_count": 7,
      "metadata": {
        "id": "nPG1KbQAgl8b"
      },
      "outputs": [],
      "source": [
        "# do not change the code in the block below\n",
        "# __________start of block__________\n",
        "device = (\n",
        "    torch.device(f\"cuda:{CUDA_DEVICE_ID}\") if torch.cuda.is_available() else torch.device(\"cpu\")\n",
        ")\n",
        "# __________end of block__________"
      ]
    },
    {
      "cell_type": "code",
      "execution_count": 166,
      "metadata": {
        "colab": {
          "base_uri": "https://localhost:8080/",
          "height": 469
        },
        "id": "aYcL28OsgSq8",
        "outputId": "90778110-72c9-420f-929f-528cea283a34"
      },
      "outputs": [
        {
          "output_type": "execute_result",
          "data": {
            "text/plain": [
              "Text(0.5, 1.0, 'Image label: 6')"
            ]
          },
          "metadata": {},
          "execution_count": 166
        },
        {
          "output_type": "display_data",
          "data": {
            "text/plain": [
              "<Figure size 640x480 with 1 Axes>"
            ],
            "image/png": "[encoded data removed]"
          },
          "metadata": {}
        }
      ],
      "source": [
        "# do not change the code in the block below\n",
        "# __________start of block__________\n",
        "\n",
        "train_fmnist_data = FashionMNIST(\n",
        "    \".\", train=True, transform=torchvision.transforms.ToTensor(), download=True\n",
        ")\n",
        "test_fmnist_data = FashionMNIST(\n",
        "    \".\", train=False, transform=torchvision.transforms.ToTensor(), download=True\n",
        ")\n",
        "\n",
        "\n",
        "train_data_loader = torch.utils.data.DataLoader(\n",
        "    train_fmnist_data, batch_size=32, shuffle=True, num_workers=2\n",
        ")\n",
        "\n",
        "test_data_loader = torch.utils.data.DataLoader(\n",
        "    test_fmnist_data, batch_size=32, shuffle=False, num_workers=2\n",
        ")\n",
        "\n",
        "random_batch = next(iter(train_data_loader))\n",
        "_image, _label = random_batch[0][0], random_batch[1][0]\n",
        "plt.figure()\n",
        "plt.imshow(_image.reshape(28, 28))\n",
        "plt.title(f\"Image label: {_label}\")\n",
        "# __________end of block__________"
      ]
    },
    {
      "cell_type": "markdown",
      "metadata": {
        "id": "S6jWRv1rgSq8"
      },
      "source": [
        "Постройте модель ниже. Пожалуйста, не стройте переусложненную сеть, не стоит делать ее глубже четырех слоев (можно и меньше). Ваша основная задача – обучить модель и получить качество на отложенной (тестовой выборке) не менее 88.5% accuracy.\n",
        "\n",
        "__Внимание, ваша модель должна быть представлена именно переменной `model_task_1`. На вход ей должен приходить тензор размерностью (1, 28, 28).__"
      ]
    },
    {
      "cell_type": "code",
      "execution_count": 199,
      "metadata": {
        "id": "BcyEFX-RgSq8"
      },
      "outputs": [],
      "source": [
        "# Creating model instance\n",
        "\n",
        "model_task_1 = nn.Sequential(\n",
        "    nn.Conv2d(1, 32, kernel_size=3, padding=1),\n",
        "    nn.BatchNorm2d(32),\n",
        "    nn.ReLU(),\n",
        "    nn.Conv2d(32, 64, kernel_size=3, padding=1),\n",
        "    nn.BatchNorm2d(64),\n",
        "    nn.ReLU(),\n",
        "    nn.MaxPool2d(2, 2),\n",
        "\n",
        "    nn.Conv2d(64, 128, kernel_size=3, padding=1),\n",
        "    nn.BatchNorm2d(128),\n",
        "    nn.ReLU(),\n",
        "    nn.Conv2d(128, 128, kernel_size=3, padding=1),\n",
        "    nn.BatchNorm2d(128),\n",
        "    nn.ReLU(),\n",
        "    nn.MaxPool2d(2, 2),\n",
        "\n",
        "    nn.Flatten(),\n",
        "    nn.Linear(7*7*128, 256),\n",
        "    nn.ReLU(),\n",
        "    nn.Dropout(0.5),\n",
        "    nn.Linear(256, 10)\n",
        ")\n"
      ]
    },
    {
      "cell_type": "markdown",
      "metadata": {
        "id": "bAoLV4dkoy5M"
      },
      "source": [
        "Не забудьте перенести модель на выбранный `device`!"
      ]
    },
    {
      "cell_type": "code",
      "execution_count": 200,
      "metadata": {
        "id": "Xas9SIXDoxvZ",
        "colab": {
          "base_uri": "https://localhost:8080/"
        },
        "outputId": "99d50565-487d-4f57-8831-c55d0550fc74"
      },
      "outputs": [
        {
          "output_type": "execute_result",
          "data": {
            "text/plain": [
              "Sequential(\n",
              "  (0): Conv2d(1, 32, kernel_size=(3, 3), stride=(1, 1), padding=(1, 1))\n",
              "  (1): BatchNorm2d(32, eps=1e-05, momentum=0.1, affine=True, track_running_stats=True)\n",
              "  (2): ReLU()\n",
              "  (3): Conv2d(32, 64, kernel_size=(3, 3), stride=(1, 1), padding=(1, 1))\n",
              "  (4): BatchNorm2d(64, eps=1e-05, momentum=0.1, affine=True, track_running_stats=True)\n",
              "  (5): ReLU()\n",
              "  (6): MaxPool2d(kernel_size=2, stride=2, padding=0, dilation=1, ceil_mode=False)\n",
              "  (7): Conv2d(64, 128, kernel_size=(3, 3), stride=(1, 1), padding=(1, 1))\n",
              "  (8): BatchNorm2d(128, eps=1e-05, momentum=0.1, affine=True, track_running_stats=True)\n",
              "  (9): ReLU()\n",
              "  (10): Conv2d(128, 128, kernel_size=(3, 3), stride=(1, 1), padding=(1, 1))\n",
              "  (11): BatchNorm2d(128, eps=1e-05, momentum=0.1, affine=True, track_running_stats=True)\n",
              "  (12): ReLU()\n",
              "  (13): MaxPool2d(kernel_size=2, stride=2, padding=0, dilation=1, ceil_mode=False)\n",
              "  (14): Flatten(start_dim=1, end_dim=-1)\n",
              "  (15): Linear(in_features=6272, out_features=256, bias=True)\n",
              "  (16): ReLU()\n",
              "  (17): Dropout(p=0.5, inplace=False)\n",
              "  (18): Linear(in_features=256, out_features=10, bias=True)\n",
              ")"
            ]
          },
          "metadata": {},
          "execution_count": 200
        }
      ],
      "source": [
        "model_task_1.to(device)"
      ]
    },
    {
      "cell_type": "markdown",
      "metadata": {
        "id": "6pLRWysggSq9"
      },
      "source": [
        "Локальные тесты для проверки вашей модели доступны ниже:"
      ]
    },
    {
      "cell_type": "code",
      "execution_count": 201,
      "metadata": {
        "colab": {
          "base_uri": "https://localhost:8080/"
        },
        "id": "_qMQzo1ggSq9",
        "outputId": "0b3a7750-8c39-46c0-8b9d-8c1b4fcdcf81"
      },
      "outputs": [
        {
          "output_type": "stream",
          "name": "stdout",
          "text": [
            "Everything seems fine!\n"
          ]
        }
      ],
      "source": [
        "# do not change the code in the block below\n",
        "# __________start of block__________\n",
        "assert model_task_1 is not None, \"Please, use `model_task_1` variable to store your model\"\n",
        "\n",
        "try:\n",
        "    x = random_batch[0].to(device)\n",
        "    y = random_batch[1].to(device)\n",
        "\n",
        "    # compute outputs given inputs, both are variables\n",
        "    y_predicted = model_task_1(x)\n",
        "except Exception as e:\n",
        "    print(\"Something is wrong with the model\")\n",
        "    raise e\n",
        "\n",
        "\n",
        "assert y_predicted.shape[-1] == 10, \"Model should predict 10 logits/probas\"\n",
        "\n",
        "print(\"Everything seems fine!\")\n",
        "# __________end of block__________"
      ]
    },
    {
      "cell_type": "markdown",
      "metadata": {
        "id": "suRmIPwIgSq9"
      },
      "source": [
        "Настройте параметры модели на обучающей выборке. Также рекомендуем поработать с `learning rate`."
      ]
    },
    {
      "cell_type": "code",
      "execution_count": 204,
      "metadata": {
        "id": "YJnU14bdnZa_",
        "colab": {
          "base_uri": "https://localhost:8080/"
        },
        "outputId": "a647d975-721d-4ca2-c9ae-54249acf5018"
      },
      "outputs": [
        {
          "output_type": "stream",
          "name": "stdout",
          "text": [
            "loss: 0.508168  [   32/60000]\n",
            "loss: 0.450029  [ 3232/60000]\n",
            "loss: 0.607809  [ 6432/60000]\n",
            "loss: 0.416718  [ 9632/60000]\n",
            "loss: 0.145408  [12832/60000]\n",
            "loss: 0.310817  [16032/60000]\n",
            "loss: 0.916952  [19232/60000]\n",
            "loss: 0.382488  [22432/60000]\n",
            "loss: 0.343338  [25632/60000]\n",
            "loss: 0.598044  [28832/60000]\n",
            "loss: 0.207380  [32032/60000]\n",
            "loss: 0.226055  [35232/60000]\n",
            "loss: 0.301919  [38432/60000]\n",
            "loss: 0.347449  [41632/60000]\n",
            "loss: 0.208544  [44832/60000]\n",
            "loss: 0.277819  [48032/60000]\n",
            "loss: 0.189380  [51232/60000]\n",
            "loss: 0.226123  [54432/60000]\n",
            "loss: 0.073395  [57632/60000]\n"
          ]
        }
      ],
      "source": [
        "# your code here\n",
        "loss_fn = nn.CrossEntropyLoss()\n",
        "optimizer = torch.optim.Adam(model_task_1.parameters(),lr=0.001)\n",
        "\n",
        "def train(dataloader, model, loss_fn, optimizer):\n",
        "    size = len(dataloader.dataset)\n",
        "    model.train()\n",
        "    for batch, (X, y) in enumerate(dataloader):\n",
        "        X, y = X.to(device), y.to(device)\n",
        "\n",
        "        # Compute prediction error\n",
        "        pred = model(X)\n",
        "        loss = loss_fn(pred, y)\n",
        "\n",
        "        # Backpropagation\n",
        "        loss.backward()\n",
        "        optimizer.step()\n",
        "        optimizer.zero_grad()\n",
        "\n",
        "        if batch % 100 == 0:\n",
        "            loss, current = loss.item(), (batch + 1) * len(X)\n",
        "            print(f\"loss: {loss:>7f}  [{current:>5d}/{size:>5d}]\")\n",
        "\n",
        "train(train_data_loader,model_task_1,loss_fn,optimizer)"
      ]
    },
    {
      "cell_type": "markdown",
      "metadata": {
        "id": "2zce7gt1gSq-"
      },
      "source": [
        "Также, напоминаем, что в любой момент можно обратиться к замечательной [документации](https://pytorch.org/docs/stable/index.html) и [обучающим примерам](https://pytorch.org/tutorials/).  "
      ]
    },
    {
      "cell_type": "markdown",
      "metadata": {
        "id": "usswrWYOgSq-"
      },
      "source": [
        "Оценим качество классификации:"
      ]
    },
    {
      "cell_type": "code",
      "execution_count": 205,
      "metadata": {
        "id": "Xua3TVZHgSq-",
        "colab": {
          "base_uri": "https://localhost:8080/"
        },
        "outputId": "099cd957-6c33-4ce8-e04d-926a5122bd3c"
      },
      "outputs": [
        {
          "output_type": "stream",
          "name": "stdout",
          "text": [
            "Neural network accuracy on train set: 0.92255\n"
          ]
        }
      ],
      "source": [
        "train_acc_task_1 = get_accuracy(model_task_1, train_data_loader)\n",
        "print(f\"Neural network accuracy on train set: {train_acc_task_1:3.5}\")"
      ]
    },
    {
      "cell_type": "code",
      "execution_count": 207,
      "metadata": {
        "id": "l9KEKXBxgSq-",
        "colab": {
          "base_uri": "https://localhost:8080/"
        },
        "outputId": "6778a568-7c76-4b90-a189-81a195335f05"
      },
      "outputs": [
        {
          "output_type": "stream",
          "name": "stdout",
          "text": [
            "Neural network accuracy on test set: 0.9102\n"
          ]
        }
      ],
      "source": [
        "test_acc_task_1 = get_accuracy(model_task_1, test_data_loader)\n",
        "print(f\"Neural network accuracy on test set: {test_acc_task_1:3.5}\")"
      ]
    },
    {
      "cell_type": "markdown",
      "metadata": {
        "id": "4oyhmMobgSq_"
      },
      "source": [
        "Проверка, что необходимые пороги пройдены:"
      ]
    },
    {
      "cell_type": "code",
      "execution_count": 208,
      "metadata": {
        "id": "OAIrURCEgSq_"
      },
      "outputs": [],
      "source": [
        "assert test_acc_task_1 >= 0.885, \"Train accuracy is below 0.885 threshold\"\n",
        "assert (\n",
        "    train_acc_task_1 >= 0.905\n",
        "), \"Train accuracy is below 0.905 while test accuracy is fine. We recommend to check your model and data flow\""
      ]
    },
    {
      "cell_type": "markdown",
      "metadata": {
        "id": "Q0cOQgLN-xUY"
      },
      "source": [
        "Обращаем внимане, код ниже предполагает, что ваша модель имеет содержится в переменной `model_task_1`, а файл `hw_fmnist_data_dict.npy` находится в той же директории, что и ноутбук (он доступен в репозитории)."
      ]
    },
    {
      "cell_type": "code",
      "execution_count": 209,
      "metadata": {
        "colab": {
          "base_uri": "https://localhost:8080/"
        },
        "id": "8IB4S7kz-xUZ",
        "outputId": "0f1ce86b-3675-472a-8dbc-b1b4ec470e5a"
      },
      "outputs": [
        {
          "output_type": "stream",
          "name": "stdout",
          "text": [
            "File saved to `submission_dict_fmnist_task_1.json`\n"
          ]
        }
      ],
      "source": [
        "# do not change the code in the block below\n",
        "# __________start of block__________\n",
        "assert os.path.exists(\n",
        "    \"hw_fmnist_data_dict.npy\"\n",
        "), \"Please, download `hw_fmnist_data_dict.npy` and place it in the working directory\"\n",
        "\n",
        "loaded_data_dict = np.load(\"hw_fmnist_data_dict.npy\", allow_pickle=True)\n",
        "\n",
        "submission_dict = {\n",
        "    \"train_predictions_task_1\": get_predictions(\n",
        "        model_task_1, torch.FloatTensor(loaded_data_dict.item()[\"train\"])\n",
        "    ),\n",
        "    \"test_predictions_task_1\": get_predictions(\n",
        "        model_task_1, torch.FloatTensor(loaded_data_dict.item()[\"test\"])\n",
        "    ),\n",
        "}\n",
        "\n",
        "with open(\"submission_dict_fmnist_task_1.json\", \"w\") as iofile:\n",
        "    json.dump(submission_dict, iofile)\n",
        "print(\"File saved to `submission_dict_fmnist_task_1.json`\")\n",
        "# __________end of block__________"
      ]
    },
    {
      "cell_type": "markdown",
      "metadata": {
        "id": "ZSRP3lqM-xUZ"
      },
      "source": [
        "### Сдача задания\n",
        "Сдайте сгенерированный файл в соответствующую задачу в соревновании, а именно:\n",
        "    \n",
        "* `submission_dict_fmnist_task_1.json` в задачу Separation"
      ]
    },
    {
      "cell_type": "markdown",
      "metadata": {
        "id": "OtWnYAN_gSrA"
      },
      "source": [
        "На этом задание завершено. Поздравляем!"
      ]
    },
    {
      "cell_type": "markdown",
      "source": [
        "----\n",
        "**Итог решения:**"
      ],
      "metadata": {
        "id": "PW5rrN-APr7e"
      }
    },
    {
      "cell_type": "markdown",
      "source": [
        "![image.png](data:image/png;base64,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)"
      ],
      "metadata": {
        "id": "edmSYsWrPq08"
      }
    }
  ],
  "metadata": {
    "accelerator": "GPU",
    "colab": {
      "gpuType": "T4",
      "provenance": []
    },
    "kernelspec": {
      "display_name": "Python 3 (ipykernel)",
      "language": "python",
      "name": "python3"
    },
    "language_info": {
      "codemirror_mode": {
        "name": "ipython",
        "version": 3
      },
      "file_extension": ".py",
      "mimetype": "text/x-python",
      "name": "python",
      "nbconvert_exporter": "python",
      "pygments_lexer": "ipython3",
      "version": "3.8.19"
    },
    "toc": {
      "base_numbering": 1,
      "nav_menu": {},
      "number_sections": true,
      "sideBar": true,
      "skip_h1_title": false,
      "title_cell": "Table of Contents",
      "title_sidebar": "Contents",
      "toc_cell": false,
      "toc_position": {},
      "toc_section_display": true,
      "toc_window_display": false
    },
    "vscode": {
      "interpreter": {
        "hash": "21499ab2a6726e29f7050b76af0e9680227e613293d630ba279de7ebdfad9cae"
      }
    }
  },
  "nbformat": 4,
  "nbformat_minor": 0
}